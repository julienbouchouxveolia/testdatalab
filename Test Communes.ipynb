{
 "cells": [
  {
   "cell_type": "code",
   "execution_count": 1,
   "metadata": {
    "collapsed": true
   },
   "outputs": [],
   "source": [
    "import gcp.bigquery as bq\n",
    "import pandas as pd\n",
    "import numpy as np"
   ]
  },
  {
   "cell_type": "code",
   "execution_count": 2,
   "metadata": {
    "collapsed": false
   },
   "outputs": [
    {
     "data": {
      "text/html": [
       "\n",
       "    <div class=\"bqsv\" id=\"1_146727967786\"></div>\n",
       "    <script>\n",
       "      require(['extensions/bigquery', 'element!1_146727967786', 'style!/static/extensions/bigquery.css'],\n",
       "        function(bq, dom) {\n",
       "          bq.renderSchema(dom, [{\"type\": \"STRING\", \"name\": \"data1\", \"mode\": \"NULLABLE\"}, {\"type\": \"STRING\", \"name\": \"data2\", \"mode\": \"NULLABLE\"}, {\"type\": \"STRING\", \"name\": \"data3\", \"mode\": \"NULLABLE\"}, {\"type\": \"STRING\", \"name\": \"data4\", \"mode\": \"NULLABLE\"}, {\"type\": \"STRING\", \"name\": \"data5\", \"mode\": \"NULLABLE\"}, {\"type\": \"STRING\", \"name\": \"data6\", \"mode\": \"NULLABLE\"}, {\"type\": \"STRING\", \"name\": \"data7\", \"mode\": \"NULLABLE\"}, {\"type\": \"STRING\", \"name\": \"data8\", \"mode\": \"NULLABLE\"}, {\"type\": \"STRING\", \"name\": \"data9\", \"mode\": \"NULLABLE\"}, {\"type\": \"STRING\", \"name\": \"data10\", \"mode\": \"NULLABLE\"}, {\"type\": \"STRING\", \"name\": \"data11\", \"mode\": \"NULLABLE\"}, {\"type\": \"STRING\", \"name\": \"data12\", \"mode\": \"NULLABLE\"}, {\"type\": \"STRING\", \"name\": \"data13\", \"mode\": \"NULLABLE\"}, {\"type\": \"STRING\", \"name\": \"data14\", \"mode\": \"NULLABLE\"}, {\"type\": \"STRING\", \"name\": \"data15\", \"mode\": \"NULLABLE\"}, {\"type\": \"STRING\", \"name\": \"data16\", \"mode\": \"NULLABLE\"}, {\"type\": \"STRING\", \"name\": \"data17\", \"mode\": \"NULLABLE\"}, {\"type\": \"STRING\", \"name\": \"data18\", \"mode\": \"NULLABLE\"}, {\"type\": \"STRING\", \"name\": \"data19\", \"mode\": \"NULLABLE\"}, {\"type\": \"STRING\", \"name\": \"data20\", \"mode\": \"NULLABLE\"}, {\"type\": \"STRING\", \"name\": \"data21\", \"mode\": \"NULLABLE\"}, {\"type\": \"STRING\", \"name\": \"data22\", \"mode\": \"NULLABLE\"}, {\"type\": \"STRING\", \"name\": \"data23\", \"mode\": \"NULLABLE\"}, {\"type\": \"STRING\", \"name\": \"data24\", \"mode\": \"NULLABLE\"}, {\"type\": \"STRING\", \"name\": \"data25\", \"mode\": \"NULLABLE\"}, {\"type\": \"STRING\", \"name\": \"data26\", \"mode\": \"NULLABLE\"}, {\"type\": \"STRING\", \"name\": \"data27\", \"mode\": \"NULLABLE\"}, {\"type\": \"STRING\", \"name\": \"data28\", \"mode\": \"NULLABLE\"}, {\"type\": \"STRING\", \"name\": \"data29\", \"mode\": \"NULLABLE\"}, {\"type\": \"STRING\", \"name\": \"data30\", \"mode\": \"NULLABLE\"}]);\n",
       "        }\n",
       "      );\n",
       "    </script>\n",
       "    "
      ],
      "text/plain": [
       "<IPython.core.display.HTML object>"
      ]
     },
     "execution_count": 2,
     "metadata": {},
     "output_type": "execute_result"
    }
   ],
   "source": [
    "%%bigquery schema --table \"vedif_testcommunes.data_communes\""
   ]
  },
  {
   "cell_type": "code",
   "execution_count": 3,
   "metadata": {
    "collapsed": false
   },
   "outputs": [
    {
     "data": {
      "text/html": [
       "\n",
       "    <div class=\"bqsv\" id=\"2_146728067936\"></div>\n",
       "    <script>\n",
       "      require(['extensions/bigquery', 'element!2_146728067936', 'style!/static/extensions/bigquery.css'],\n",
       "        function(bq, dom) {\n",
       "          bq.renderSchema(dom, [{\"type\": \"STRING\", \"name\": \"centre\", \"mode\": \"NULLABLE\"}, {\"type\": \"STRING\", \"name\": \"sit\", \"mode\": \"NULLABLE\"}, {\"type\": \"STRING\", \"name\": \"uo\", \"mode\": \"NULLABLE\"}, {\"type\": \"STRING\", \"name\": \"ville\", \"mode\": \"NULLABLE\"}, {\"type\": \"STRING\", \"name\": \"code_commune\", \"mode\": \"NULLABLE\"}, {\"type\": \"STRING\", \"name\": \"syndicat\", \"mode\": \"NULLABLE\"}, {\"type\": \"INTEGER\", \"name\": \"cp_insee\", \"mode\": \"NULLABLE\"}, {\"type\": \"INTEGER\", \"name\": \"cop\", \"mode\": \"NULLABLE\"}, {\"type\": \"STRING\", \"name\": \"dept\", \"mode\": \"NULLABLE\"}, {\"type\": \"STRING\", \"name\": \"cp\", \"mode\": \"NULLABLE\"}, {\"type\": \"INTEGER\", \"name\": \"nb_adr\", \"mode\": \"NULLABLE\"}, {\"type\": \"INTEGER\", \"name\": \"pop_2012\", \"mode\": \"NULLABLE\"}, {\"type\": \"INTEGER\", \"name\": \"vcc_2015\", \"mode\": \"NULLABLE\"}, {\"type\": \"FLOAT\", \"name\": \"vcc_2015_p_hab\", \"mode\": \"NULLABLE\"}, {\"type\": \"FLOAT\", \"name\": \"vol_annu_2015_p_hab\", \"mode\": \"NULLABLE\"}, {\"type\": \"FLOAT\", \"name\": \"conso_moy_adr\", \"mode\": \"NULLABLE\"}, {\"type\": \"FLOAT\", \"name\": \"nb_hab_p_adr\", \"mode\": \"NULLABLE\"}, {\"type\": \"INTEGER\", \"name\": \"lineraire\", \"mode\": \"NULLABLE\"}, {\"type\": \"INTEGER\", \"name\": \"nb_fuite\", \"mode\": \"NULLABLE\"}, {\"type\": \"FLOAT\", \"name\": \"nb_fuite_p_linaire\", \"mode\": \"NULLABLE\"}]);\n",
       "        }\n",
       "      );\n",
       "    </script>\n",
       "    "
      ],
      "text/plain": [
       "<IPython.core.display.HTML object>"
      ]
     },
     "execution_count": 3,
     "metadata": {},
     "output_type": "execute_result"
    }
   ],
   "source": [
    "%%bigquery schema --table \"vedif_testcommunes.clean_data_communes\""
   ]
  },
  {
   "cell_type": "code",
   "execution_count": 4,
   "metadata": {
    "collapsed": true
   },
   "outputs": [],
   "source": [
    "%%sql --module communes_query\n",
    "SELECT ville as commune, code_commune as code_com, pop_2012 as pop, nb_fuite as fuite\n",
    "FROM [vedif_testcommunes.clean_data_communes]\n"
   ]
  },
  {
   "cell_type": "code",
   "execution_count": 5,
   "metadata": {
    "collapsed": false
   },
   "outputs": [
    {
     "data": {
      "text/html": [
       "<div>\n",
       "<table border=\"1\" class=\"dataframe\">\n",
       "  <thead>\n",
       "    <tr style=\"text-align: right;\">\n",
       "      <th></th>\n",
       "      <th>commune</th>\n",
       "      <th>code_com</th>\n",
       "      <th>pop</th>\n",
       "      <th>fuite</th>\n",
       "    </tr>\n",
       "  </thead>\n",
       "  <tbody>\n",
       "    <tr>\n",
       "      <th>0</th>\n",
       "      <td>Saint-Maur-des-Fossés</td>\n",
       "      <td>117</td>\n",
       "      <td>74176.0</td>\n",
       "      <td>5</td>\n",
       "    </tr>\n",
       "    <tr>\n",
       "      <th>1</th>\n",
       "      <td>Le-Mesnil-le-Roi</td>\n",
       "      <td>421</td>\n",
       "      <td>6383.0</td>\n",
       "      <td>67</td>\n",
       "    </tr>\n",
       "    <tr>\n",
       "      <th>2</th>\n",
       "      <td>Houilles</td>\n",
       "      <td>415</td>\n",
       "      <td>32399.0</td>\n",
       "      <td>159</td>\n",
       "    </tr>\n",
       "    <tr>\n",
       "      <th>3</th>\n",
       "      <td>Sartrouville</td>\n",
       "      <td>433</td>\n",
       "      <td>51713.0</td>\n",
       "      <td>289</td>\n",
       "    </tr>\n",
       "    <tr>\n",
       "      <th>4</th>\n",
       "      <td>La Frette-sur-Seine</td>\n",
       "      <td>416</td>\n",
       "      <td>4572.0</td>\n",
       "      <td>72</td>\n",
       "    </tr>\n",
       "  </tbody>\n",
       "</table>\n",
       "</div>"
      ],
      "text/plain": [
       "                 commune code_com      pop  fuite\n",
       "0  Saint-Maur-des-Fossés      117  74176.0      5\n",
       "1       Le-Mesnil-le-Roi      421   6383.0     67\n",
       "2               Houilles      415  32399.0    159\n",
       "3           Sartrouville      433  51713.0    289\n",
       "4    La Frette-sur-Seine      416   4572.0     72"
      ]
     },
     "execution_count": 5,
     "metadata": {},
     "output_type": "execute_result"
    }
   ],
   "source": [
    "communes = bq.Query(communes_query).to_dataframe()\n",
    "communes[:5]"
   ]
  },
  {
   "cell_type": "code",
   "execution_count": 6,
   "metadata": {
    "collapsed": false
   },
   "outputs": [
    {
     "data": {
      "image/png": "[encoded data removed]",
      "text/plain": [
       "<matplotlib.figure.Figure at 0x7f6d0dbad550>"
      ]
     },
     "metadata": {},
     "output_type": "display_data"
    }
   ],
   "source": [
    "j = communes.plot(kind='scatter', x='fuite', y='pop')"
   ]
  }
 ],
 "metadata": {
  "kernelspec": {
   "display_name": "Python 2",
   "language": "python",
   "name": "python2"
  },
  "language_info": {
   "codemirror_mode": {
    "name": "ipython",
    "version": 2
   },
   "file_extension": ".py",
   "mimetype": "text/x-python",
   "name": "python",
   "nbconvert_exporter": "python",
   "pygments_lexer": "ipython2",
   "version": "2.7.9"
  }
 },
 "nbformat": 4,
 "nbformat_minor": 0
}
