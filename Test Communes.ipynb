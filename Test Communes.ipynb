{
 "cells": [
  {
   "cell_type": "code",
   "execution_count": 1,
   "metadata": {
    "collapsed": true
   },
   "outputs": [],
   "source": [
    "import gcp.bigquery as bq\n",
    "import pandas as pd\n",
    "import numpy as np"
   ]
  },
  {
   "cell_type": "code",
   "execution_count": 2,
   "metadata": {
    "collapsed": false
   },
   "outputs": [
    {
     "data": {
      "text/html": [
       "\n",
       "    <div class=\"bqsv\" id=\"1_146727967786\"></div>\n",
       "    <script>\n",
       "      require(['extensions/bigquery', 'element!1_146727967786', 'style!/static/extensions/bigquery.css'],\n",
       "        function(bq, dom) {\n",
       "          bq.renderSchema(dom, [{\"type\": \"STRING\", \"name\": \"data1\", \"mode\": \"NULLABLE\"}, {\"type\": \"STRING\", \"name\": \"data2\", \"mode\": \"NULLABLE\"}, {\"type\": \"STRING\", \"name\": \"data3\", \"mode\": \"NULLABLE\"}, {\"type\": \"STRING\", \"name\": \"data4\", \"mode\": \"NULLABLE\"}, {\"type\": \"STRING\", \"name\": \"data5\", \"mode\": \"NULLABLE\"}, {\"type\": \"STRING\", \"name\": \"data6\", \"mode\": \"NULLABLE\"}, {\"type\": \"STRING\", \"name\": \"data7\", \"mode\": \"NULLABLE\"}, {\"type\": \"STRING\", \"name\": \"data8\", \"mode\": \"NULLABLE\"}, {\"type\": \"STRING\", \"name\": \"data9\", \"mode\": \"NULLABLE\"}, {\"type\": \"STRING\", \"name\": \"data10\", \"mode\": \"NULLABLE\"}, {\"type\": \"STRING\", \"name\": \"data11\", \"mode\": \"NULLABLE\"}, {\"type\": \"STRING\", \"name\": \"data12\", \"mode\": \"NULLABLE\"}, {\"type\": \"STRING\", \"name\": \"data13\", \"mode\": \"NULLABLE\"}, {\"type\": \"STRING\", \"name\": \"data14\", \"mode\": \"NULLABLE\"}, {\"type\": \"STRING\", \"name\": \"data15\", \"mode\": \"NULLABLE\"}, {\"type\": \"STRING\", \"name\": \"data16\", \"mode\": \"NULLABLE\"}, {\"type\": \"STRING\", \"name\": \"data17\", \"mode\": \"NULLABLE\"}, {\"type\": \"STRING\", \"name\": \"data18\", \"mode\": \"NULLABLE\"}, {\"type\": \"STRING\", \"name\": \"data19\", \"mode\": \"NULLABLE\"}, {\"type\": \"STRING\", \"name\": \"data20\", \"mode\": \"NULLABLE\"}, {\"type\": \"STRING\", \"name\": \"data21\", \"mode\": \"NULLABLE\"}, {\"type\": \"STRING\", \"name\": \"data22\", \"mode\": \"NULLABLE\"}, {\"type\": \"STRING\", \"name\": \"data23\", \"mode\": \"NULLABLE\"}, {\"type\": \"STRING\", \"name\": \"data24\", \"mode\": \"NULLABLE\"}, {\"type\": \"STRING\", \"name\": \"data25\", \"mode\": \"NULLABLE\"}, {\"type\": \"STRING\", \"name\": \"data26\", \"mode\": \"NULLABLE\"}, {\"type\": \"STRING\", \"name\": \"data27\", \"mode\": \"NULLABLE\"}, {\"type\": \"STRING\", \"name\": \"data28\", \"mode\": \"NULLABLE\"}, {\"type\": \"STRING\", \"name\": \"data29\", \"mode\": \"NULLABLE\"}, {\"type\": \"STRING\", \"name\": \"data30\", \"mode\": \"NULLABLE\"}]);\n",
       "        }\n",
       "      );\n",
       "    </script>\n",
       "    "
      ],
      "text/plain": [
       "<IPython.core.display.HTML object>"
      ]
     },
     "execution_count": 2,
     "metadata": {},
     "output_type": "execute_result"
    }
   ],
   "source": [
    "%%bigquery schema --table \"vedif_testcommunes.data_communes\""
   ]
  },
  {
   "cell_type": "code",
   "execution_count": 3,
   "metadata": {
    "collapsed": false
   },
   "outputs": [
    {
     "data": {
      "text/html": [
       "\n",
       "    <div class=\"bqsv\" id=\"2_146728067936\"></div>\n",
       "    <script>\n",
       "      require(['extensions/bigquery', 'element!2_146728067936', 'style!/static/extensions/bigquery.css'],\n",
       "        function(bq, dom) {\n",
       "          bq.renderSchema(dom, [{\"type\": \"STRING\", \"name\": \"centre\", \"mode\": \"NULLABLE\"}, {\"type\": \"STRING\", \"name\": \"sit\", \"mode\": \"NULLABLE\"}, {\"type\": \"STRING\", \"name\": \"uo\", \"mode\": \"NULLABLE\"}, {\"type\": \"STRING\", \"name\": \"ville\", \"mode\": \"NULLABLE\"}, {\"type\": \"STRING\", \"name\": \"code_commune\", \"mode\": \"NULLABLE\"}, {\"type\": \"STRING\", \"name\": \"syndicat\", \"mode\": \"NULLABLE\"}, {\"type\": \"INTEGER\", \"name\": \"cp_insee\", \"mode\": \"NULLABLE\"}, {\"type\": \"INTEGER\", \"name\": \"cop\", \"mode\": \"NULLABLE\"}, {\"type\": \"STRING\", \"name\": \"dept\", \"mode\": \"NULLABLE\"}, {\"type\": \"STRING\", \"name\": \"cp\", \"mode\": \"NULLABLE\"}, {\"type\": \"INTEGER\", \"name\": \"nb_adr\", \"mode\": \"NULLABLE\"}, {\"type\": \"INTEGER\", \"name\": \"pop_2012\", \"mode\": \"NULLABLE\"}, {\"type\": \"INTEGER\", \"name\": \"vcc_2015\", \"mode\": \"NULLABLE\"}, {\"type\": \"FLOAT\", \"name\": \"vcc_2015_p_hab\", \"mode\": \"NULLABLE\"}, {\"type\": \"FLOAT\", \"name\": \"vol_annu_2015_p_hab\", \"mode\": \"NULLABLE\"}, {\"type\": \"FLOAT\", \"name\": \"conso_moy_adr\", \"mode\": \"NULLABLE\"}, {\"type\": \"FLOAT\", \"name\": \"nb_hab_p_adr\", \"mode\": \"NULLABLE\"}, {\"type\": \"INTEGER\", \"name\": \"lineraire\", \"mode\": \"NULLABLE\"}, {\"type\": \"INTEGER\", \"name\": \"nb_fuite\", \"mode\": \"NULLABLE\"}, {\"type\": \"FLOAT\", \"name\": \"nb_fuite_p_linaire\", \"mode\": \"NULLABLE\"}]);\n",
       "        }\n",
       "      );\n",
       "    </script>\n",
       "    "
      ],
      "text/plain": [
       "<IPython.core.display.HTML object>"
      ]
     },
     "execution_count": 3,
     "metadata": {},
     "output_type": "execute_result"
    }
   ],
   "source": [
    "%%bigquery schema --table \"vedif_testcommunes.clean_data_communes\""
   ]
  },
  {
   "cell_type": "code",
   "execution_count": null,
   "metadata": {
    "collapsed": true
   },
   "outputs": [],
   "source": [
    "%%sql --module communes_query\n",
    "SELECT ville as commune, code_commune as ccpop_2012 as pop, nb_fuite as fuite\n"
   ]
  }
 ],
 "metadata": {
  "kernelspec": {
   "display_name": "Python 2",
   "language": "python",
   "name": "python2"
  },
  "language_info": {
   "codemirror_mode": {
    "name": "ipython",
    "version": 2
   },
   "file_extension": ".py",
   "mimetype": "text/x-python",
   "name": "python",
   "nbconvert_exporter": "python",
   "pygments_lexer": "ipython2",
   "version": "2.7.9"
  }
 },
 "nbformat": 4,
 "nbformat_minor": 0
}
